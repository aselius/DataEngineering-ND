{
 "cells": [
  {
   "cell_type": "code",
   "execution_count": 1,
   "metadata": {},
   "outputs": [],
   "source": [
    "import boto3\n",
    "import configparser\n",
    "import psycopg2\n",
    "from sql_queries import create_table_queries, drop_table_queries\n"
   ]
  },
  {
   "cell_type": "code",
   "execution_count": 17,
   "metadata": {},
   "outputs": [],
   "source": [
    "drop_table_queries = drop_table_queries[2:]"
   ]
  },
  {
   "cell_type": "code",
   "execution_count": 18,
   "metadata": {},
   "outputs": [
    {
     "data": {
      "text/plain": [
       "['DROP TABLE IF EXISTS staging_events;',\n",
       " 'DROP TABLE IF EXISTS staging_songs;',\n",
       " 'DROP TABLE IF EXISTS songplay;',\n",
       " 'DROP TABLE IF EXISTS users;',\n",
       " 'DROP TABLE IF EXISTS songs;',\n",
       " 'DROP TABLE IF EXISTS artists;',\n",
       " 'DROP TABLE IF EXISTS time;']"
      ]
     },
     "execution_count": 18,
     "metadata": {},
     "output_type": "execute_result"
    }
   ],
   "source": [
    "drop_table_queries"
   ]
  },
  {
   "cell_type": "code",
   "execution_count": 4,
   "metadata": {},
   "outputs": [],
   "source": [
    "create_table_queries = create_table_queries[2:]"
   ]
  },
  {
   "cell_type": "code",
   "execution_count": 22,
   "metadata": {},
   "outputs": [
    {
     "data": {
      "text/plain": [
       "['\\nCREATE TABLE staging_events \\n(\\n    id INTEGER IDENTITY(0,1),\\n    artist VARCHAR(MAX),\\n    auth VARCHAR(15),\\n    firstName VARCHAR(255),\\n    gender VARCHAR(5),\\n    itemInSession INTEGER,\\n    lastName VARCHAR(255),\\n    length DOUBLE PRECISION,\\n    level VARCHAR(50),\\n    location VARCHAR(MAX),\\n    method VARCHAR(6),\\n    page VARCHAR(MAX),\\n    registration DOUBLE PRECISION,\\n    sessionId DOUBLE PRECISION,\\n    song VARCHAR(MAX),\\n    status numeric(3,0),\\n    ts TIMESTAMP,\\n    userAgent VARCHAR(MAX),\\n    userId VARCHAR(255)\\n);\\n',\n",
       " '\\nCREATE TABLE staging_songs \\n(\\n    num_songs INTEGER,\\n    artist_id VARCHAR(18),\\n    artist_latitude DOUBLE PRECISION,\\n    artist_longitude DOUBLE PRECISION,\\n    artist_location VARCHAR(MAX),\\n    artist_name VARCHAR(MAX),\\n    song_id VARCHAR(18),\\n    title VARCHAR(MAX),\\n    duration DOUBLE PRECISION,\\n    year numeric(4,0)\\n);\\n',\n",
       " '\\nCREATE TABLE songplay \\n(\\n    songplay_id INTEGER NOT NULL,\\n    start_time TIMESTAMP,\\n    user_id double precision,\\n    level VARCHAR(10),\\n    song_id VARCHAR(18),\\n    artist_id VARCHAR(18),\\n    location VARCHAR(MAX),\\n    user_agent VARCHAR(MAX)\\n);\\n',\n",
       " '\\nCREATE TABLE users (\\n    user_id VARCHAR,\\n    first_name VARCHAR(25),\\n    last_name VARCHAR(25),\\n    gender VARCHAR(5),\\n    level VARCHAR(10)\\n);\\n',\n",
       " '\\nCREATE TABLE songs (\\n    song_id VARCHAR(18) NOT NULL,\\n    title VARCHAR(MAX),\\n    artist_id VARCHAR(18),\\n    year numeric(4,0),\\n    duration DOUBLE PRECISION\\n);\\n',\n",
       " '\\nCREATE TABLE artists (\\n    artist_id VARCHAR(18) NOT NULL,\\n    name VARCHAR(MAX),\\n    location VARCHAR(MAX),\\n    latitude DOUBLE PRECISION,\\n    longitude DOUBLE PRECISION\\n);\\n',\n",
       " '\\nCREATE TABLE time (\\n    start_time TIMESTAMP NOT NULL,\\n    hour numeric(2,0) NOT NULL,\\n    day numeric(2,0) NOT NULL,\\n    week numeric(2,0) NOT NULL,\\n    month numeric(2,0) NOT NULL,\\n    year numeric(4,0) NOT NULL,\\n    weekday VARCHAR(9) NOT NULL\\n);\\n']"
      ]
     },
     "execution_count": 22,
     "metadata": {},
     "output_type": "execute_result"
    }
   ],
   "source": [
    "create_table_queries"
   ]
  },
  {
   "cell_type": "code",
   "execution_count": 28,
   "metadata": {},
   "outputs": [],
   "source": [
    "def drop_tables(cur, conn):\n",
    "    for query in drop_table_queries:\n",
    "        cur.execute(query)\n",
    "        conn.commit()"
   ]
  },
  {
   "cell_type": "code",
   "execution_count": 2,
   "metadata": {},
   "outputs": [],
   "source": [
    "config = configparser.ConfigParser()\n",
    "config.read('dwh.cfg')\n",
    "\n",
    "HOST = config.get(\"CLUSTER\", \"HOST\")\n",
    "DBNAME = config.get(\"CLUSTER\", \"DB_NAME\")\n",
    "USER = config.get(\"CLUSTER\", \"DB_USER\")\n",
    "PASSWORD = config.get(\"CLUSTER\", \"DB_PASSWORD\")\n",
    "PORT = config.get(\"CLUSTER\", \"DB_PORT\")\n",
    "conn = psycopg2.connect(\"host={} dbname={} user={} password={} port={}\".format(HOST, DBNAME, USER, PASSWORD, PORT))\n",
    "cur = conn.cursor()"
   ]
  },
  {
   "cell_type": "code",
   "execution_count": 30,
   "metadata": {},
   "outputs": [],
   "source": [
    "drop_tables(cur, conn)"
   ]
  },
  {
   "cell_type": "code",
   "execution_count": 31,
   "metadata": {},
   "outputs": [],
   "source": [
    "def create_tables(cur, conn):\n",
    "    for query in create_table_queries:\n",
    "        cur.execute(query)\n",
    "        conn.commit()"
   ]
  },
  {
   "cell_type": "code",
   "execution_count": 32,
   "metadata": {},
   "outputs": [],
   "source": [
    "create_tables(cur, conn)"
   ]
  },
  {
   "cell_type": "code",
   "execution_count": 11,
   "metadata": {},
   "outputs": [],
   "source": [
    "conn.close()"
   ]
  },
  {
   "cell_type": "code",
   "execution_count": 3,
   "metadata": {},
   "outputs": [],
   "source": [
    "from sql_queries import copy_table_queries"
   ]
  },
  {
   "cell_type": "code",
   "execution_count": 4,
   "metadata": {},
   "outputs": [
    {
     "data": {
      "text/plain": [
       "[\"\\nCOPY staging_events from 's3://udacity-dend/log_data'\\ncredentials 'aws_iam_role=arn:aws:iam::999967103006:role/dwhRole'\\nregion 'us-west-2'\\nJSON 's3://udacity-dend/log_json_path.json'\\nTIMEFORMAT as 'epochmillisecs';\\n\",\n",
       " \"\\nCOPY staging_songs from 's3://udacity-dend/song_data'\\ncredentials 'aws_iam_role=arn:aws:iam::999967103006:role/dwhRole'\\nregion 'us-west-2'\\njson 'auto';\\n\"]"
      ]
     },
     "execution_count": 4,
     "metadata": {},
     "output_type": "execute_result"
    }
   ],
   "source": [
    "copy_table_queries"
   ]
  },
  {
   "cell_type": "code",
   "execution_count": 5,
   "metadata": {},
   "outputs": [],
   "source": [
    "def load_staging_tables(cur, conn):\n",
    "    for query in copy_table_queries:\n",
    "        cur.execute(query)\n",
    "        conn.commit()"
   ]
  },
  {
   "cell_type": "code",
   "execution_count": 6,
   "metadata": {},
   "outputs": [],
   "source": [
    "load_staging_tables(cur, conn)"
   ]
  },
  {
   "cell_type": "code",
   "execution_count": null,
   "metadata": {},
   "outputs": [],
   "source": []
  }
 ],
 "metadata": {
  "kernelspec": {
   "display_name": "Python 3",
   "language": "python",
   "name": "python3"
  },
  "language_info": {
   "codemirror_mode": {
    "name": "ipython",
    "version": 3
   },
   "file_extension": ".py",
   "mimetype": "text/x-python",
   "name": "python",
   "nbconvert_exporter": "python",
   "pygments_lexer": "ipython3",
   "version": "3.6.3"
  }
 },
 "nbformat": 4,
 "nbformat_minor": 2
}
